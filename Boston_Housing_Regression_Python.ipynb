{
 "cells": [
  {
   "cell_type": "markdown",
   "id": "d2d886bc",
   "metadata": {},
   "source": [
    "# 🏠 Boston Housing Price Prediction (Python Version)\n",
    "Linear regression project to predict median home prices using the Boston Housing dataset."
   ]
  },
  {
   "cell_type": "code",
   "execution_count": null,
   "id": "62e597fb",
   "metadata": {},
   "outputs": [],
   "source": [
    "# Step 1: Import libraries\n",
    "import pandas as pd\n",
    "import numpy as np\n",
    "from sklearn.model_selection import train_test_split\n",
    "from sklearn.linear_model import LinearRegression\n",
    "from sklearn.metrics import mean_squared_error, mean_absolute_error\n",
    "import matplotlib.pyplot as plt\n",
    "import seaborn as sns"
   ]
  },
  {
   "cell_type": "code",
   "execution_count": null,
   "id": "fa585294",
   "metadata": {},
   "outputs": [],
   "source": [
    "# Step 2: Load dataset\n",
    "df = pd.read_csv('BostonHousing-1.csv')\n",
    "df.head()"
   ]
  },
  {
   "cell_type": "code",
   "execution_count": null,
   "id": "7caddb70",
   "metadata": {},
   "outputs": [],
   "source": [
    "# Step 3: Partition data (60:25:15)\n",
    "# First split into train (60%) and temp (40%)\n",
    "train_df, temp_df = train_test_split(df, test_size=0.4, random_state=42)\n",
    "# Then split temp into validation (25%) and holdout (15%)\n",
    "val_df, holdout_df = train_test_split(temp_df, test_size=0.375, random_state=42)  # 0.375 * 40% = 15%\n",
    "print(f'Train: {len(train_df)}, Validation: {len(val_df)}, Holdout: {len(holdout_df)}')"
   ]
  },
  {
   "cell_type": "code",
   "execution_count": null,
   "id": "eda29594",
   "metadata": {},
   "outputs": [],
   "source": [
    "# Step 4: Fit linear regression model on Train set (CRIM, CHAS, RM)\n",
    "X_train = train_df[['CRIM', 'CHAS', 'RM']]\n",
    "y_train = train_df['MEDV']\n",
    "model = LinearRegression()\n",
    "model.fit(X_train, y_train)\n",
    "print('Intercept:', model.intercept_)\n",
    "print('Coefficients:', dict(zip(X_train.columns, model.coef_)))"
   ]
  },
  {
   "cell_type": "code",
   "execution_count": null,
   "id": "137a8e67",
   "metadata": {},
   "outputs": [],
   "source": [
    "# Step 5: Predict on custom input: CRIM=0.1, CHAS=0, RM=6\n",
    "input_data = pd.DataFrame([[0.1, 0, 6]], columns=['CRIM', 'CHAS', 'RM'])\n",
    "predicted_price = model.predict(input_data)\n",
    "print('Predicted Median House Price ($1000s):', round(predicted_price[0], 2))"
   ]
  },
  {
   "cell_type": "code",
   "execution_count": null,
   "id": "9820a81a",
   "metadata": {},
   "outputs": [],
   "source": [
    "# Step 6: Evaluate on Validation set\n",
    "X_val = val_df[['CRIM', 'CHAS', 'RM']]\n",
    "y_val = val_df['MEDV']\n",
    "y_pred_val = model.predict(X_val)\n",
    "rmse_val = np.sqrt(mean_squared_error(y_val, y_pred_val))\n",
    "mae_val = mean_absolute_error(y_val, y_pred_val)\n",
    "mape_val = np.mean(np.abs((y_val - y_pred_val) / y_val)) * 100\n",
    "print(f'Validation RMSE: {rmse_val:.2f}')\n",
    "print(f'Validation MAE: {mae_val:.2f}')\n",
    "print(f'Validation MAPE: {mape_val:.2f}%')"
   ]
  },
  {
   "cell_type": "code",
   "execution_count": null,
   "id": "5820d2d1",
   "metadata": {},
   "outputs": [],
   "source": [
    "# Step 7: Evaluate on Holdout set\n",
    "X_hold = holdout_df[['CRIM', 'CHAS', 'RM']]\n",
    "y_hold = holdout_df['MEDV']\n",
    "y_pred_hold = model.predict(X_hold)\n",
    "rmse_hold = np.sqrt(mean_squared_error(y_hold, y_pred_hold))\n",
    "mae_hold = mean_absolute_error(y_hold, y_pred_hold)\n",
    "mape_hold = np.mean(np.abs((y_hold - y_pred_hold) / y_hold)) * 100\n",
    "print(f'Holdout RMSE: {rmse_hold:.2f}')\n",
    "print(f'Holdout MAE: {mae_hold:.2f}')\n",
    "print(f'Holdout MAPE: {mape_hold:.2f}%')"
   ]
  }
 ],
 "metadata": {},
 "nbformat": 4,
 "nbformat_minor": 5
}
